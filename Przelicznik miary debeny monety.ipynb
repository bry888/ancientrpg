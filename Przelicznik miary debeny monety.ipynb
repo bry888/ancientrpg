{
 "cells": [
  {
   "cell_type": "code",
   "execution_count": 1,
   "metadata": {},
   "outputs": [],
   "source": [
    "class Exchange(object):\n",
    "    def __init__(self, talent, gold, silver, iron, copper, golden_coin, silver_coin, electron_coin):\n",
    "        \"\"\"\n",
    "        talent-copper: weights; *_coin: weights in silver\n",
    "        \"\"\"\n",
    "        self.exchange_dict = {\n",
    "            'talent': talent,\n",
    "            'gold': gold,\n",
    "            'silver': silver,\n",
    "            'iron': iron,\n",
    "            'copper': copper            \n",
    "        }\n",
    "        self.coins_in_silver_dict = {\n",
    "            'gold': golden_coin,\n",
    "            'silver': silver_coin,\n",
    "            'electron': electron_coin\n",
    "        }\n",
    "    def exchange_weights(self, weight_in, metal_in, metal_out):\n",
    "        return self.exchange_dict[metal_out] * weight_in / self.exchange_dict[metal_in]\n",
    "    \n",
    "    def exchange_coins(self, coin_metal, coins_number, coin_out):\n",
    "        return self.coins_in_silver_dict[coin_out] * coins_number / self.coins_in_silver_dict[coin_metal]\n",
    "    \n",
    "    def get_weight_in_silver(self, coin_metal, coins_number):\n",
    "        return self.coins_in_silver_dict[coin_metal] * coins_number\n",
    "    def get_coins_value(self, coin_metal, coins_number, metal_out):\n",
    "        weight_in = self.get_weight_in_silver(coin_metal, coins_number)\n",
    "        return self.exchange_weights(weight_in, 'silver', metal_out)\n",
    "    \n",
    "    def get_silver_weight(self, weight, metal_in):\n",
    "        return self.exchange_weights(weight, metal_in, 'silver')\n",
    "    def metal_to_coins(self, weight, metal_in, coin_out):\n",
    "        weight_in = self.get_silver_weight(weight, metal_in)\n",
    "        return weight_in / self.coins_in_silver_dict[coin_out]\n",
    "\n",
    "    \n",
    "class PolisExchange(Exchange):\n",
    "    def __init__(self, polis):\n",
    "        self.polis = polis\n",
    "    def value_between_polis(self, value_in, metal_in, my_polis, their_polis):\n",
    "        pass\n",
    "    \n",
    "    \n",
    "    \n",
    "sparta = Exchange(1, 5, 100, 500, 1000, 5, 2, 4)\n",
    "cirtha = Exchange(3, 5, 160, 700, 1400, 5, 2, 4)\n",
    "hermione = Exchange(1, 5, 120, 600, 1200, 5, 2, 4)\n",
    "\n",
    "arraphka = Exchange(1, 5, 100, 500, 1000, 5, 2, 4)"
   ]
  },
  {
   "cell_type": "code",
   "execution_count": 2,
   "metadata": {},
   "outputs": [],
   "source": [
    "# WHERE ARE YOU?\n",
    "polis = arraphka"
   ]
  },
  {
   "cell_type": "code",
   "execution_count": 3,
   "metadata": {},
   "outputs": [
    {
     "data": {
      "text/plain": [
       "20.0"
      ]
     },
     "execution_count": 3,
     "metadata": {},
     "output_type": "execute_result"
    }
   ],
   "source": [
    "# EXCHANGE METALS (WEIGHTS)\n",
    "\n",
    "weight = 1\n",
    "metal_in = 'gold'\n",
    "metal_out = 'silver'\n",
    "\n",
    "polis.exchange_weights(weight, metal_in, metal_out)"
   ]
  },
  {
   "cell_type": "code",
   "execution_count": 38,
   "metadata": {},
   "outputs": [
    {
     "data": {
      "text/plain": [
       "25.0"
      ]
     },
     "execution_count": 38,
     "metadata": {},
     "output_type": "execute_result"
    }
   ],
   "source": [
    "# GET COINS VALUE IN METAL\n",
    "\n",
    "coin_metal = 'gold'\n",
    "coins_number = 5\n",
    "metal_out = 'silver'\n",
    "\n",
    "polis.get_coins_value(coin_metal, coins_number, metal_out)"
   ]
  },
  {
   "cell_type": "code",
   "execution_count": 39,
   "metadata": {},
   "outputs": [
    {
     "data": {
      "text/plain": [
       "4.0"
      ]
     },
     "execution_count": 39,
     "metadata": {},
     "output_type": "execute_result"
    }
   ],
   "source": [
    "# EXCHANGE COINS\n",
    "\n",
    "coin_metal = 'gold'\n",
    "coins_number = 5\n",
    "coin_out = 'electron'\n",
    "\n",
    "polis.exchange_coins(coin_metal, coins_number, coin_out)"
   ]
  },
  {
   "cell_type": "code",
   "execution_count": 40,
   "metadata": {},
   "outputs": [
    {
     "data": {
      "text/plain": [
       "0.8"
      ]
     },
     "execution_count": 40,
     "metadata": {},
     "output_type": "execute_result"
    }
   ],
   "source": [
    "# EXCHANGE METAL TO COINS\n",
    "\n",
    "weight = 4\n",
    "metal_in = 'silver'\n",
    "coin_out = 'gold'\n",
    "\n",
    "polis.metal_to_coins(weight, metal_in, coin_out)"
   ]
  },
  {
   "cell_type": "code",
   "execution_count": null,
   "metadata": {},
   "outputs": [],
   "source": []
  }
 ],
 "metadata": {
  "kernelspec": {
   "display_name": "Python 3",
   "language": "python",
   "name": "python3"
  },
  "language_info": {
   "codemirror_mode": {
    "name": "ipython",
    "version": 3
   },
   "file_extension": ".py",
   "mimetype": "text/x-python",
   "name": "python",
   "nbconvert_exporter": "python",
   "pygments_lexer": "ipython3",
   "version": "3.5.2"
  }
 },
 "nbformat": 4,
 "nbformat_minor": 2
}
