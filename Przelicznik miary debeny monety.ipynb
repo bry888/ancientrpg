{
 "cells": [
  {
   "cell_type": "code",
   "execution_count": 29,
   "metadata": {},
   "outputs": [],
   "source": [
    "class Exchange(object):\n",
    "    def __init__(self, talent, gold, silver, iron, copper, golden_coin, silver_coin, electron_coin):\n",
    "        \"\"\"\n",
    "        talent-copper: weights; *_coin: weights in silver\n",
    "        \"\"\"\n",
    "        self.exchange_dict = {\n",
    "            'talent': talent,\n",
    "            'gold': gold,\n",
    "            'silver': silver,\n",
    "            'iron': iron,\n",
    "            'copper': copper            \n",
    "        }\n",
    "        self.coins_in_silver_dict = {\n",
    "            'gold': golden_coin,\n",
    "            'silver': silver_coin,\n",
    "            'electron': electron_coin\n",
    "        }\n",
    "    def exchange_weights(self, weight_in, metal_in, metal_out):\n",
    "        return self.exchange_dict[metal_out] * weight_in / self.exchange_dict[metal_in]\n",
    "    \n",
    "    def exchange_coins(self, coin_metal, coins_number, coin_out):\n",
    "        return self.coins_in_silver_dict[coin_out] * coins_number / self.coins_in_silver_dict[coin_metal]\n",
    "    \n",
    "    def get_weight_in_silver(self, coin_metal, coins_number):\n",
    "        return self.coins_in_silver_dict[coin_metal] * coins_number\n",
    "    def get_coins_value(self, coin_metal, coins_number, metal_out):\n",
    "        weight_in = self.get_weight_in_silver(coin_metal, coins_number)\n",
    "        metal_in = 'silver'\n",
    "        return self.exchange_weights(weight_in, metal_in, metal_out)\n",
    "    \n",
    "    def get_silver_weight(self, weight, metal_in):\n",
    "        return self.exchange_dict['silver'] * weight / self.exchange_dict[metal_in]\n",
    "    def metal_to_coins(self, weight, metal_in, coin_out):\n",
    "        weight_in = self.get_silver_weight(weight, metal_in)\n",
    "        pass\n",
    "\n",
    "    \n",
    "class PolisExchange(Exchange):\n",
    "    def __init__(self, polis):\n",
    "        self.polis = polis\n",
    "    def value_between_polis(self, value_in, metal_in, my_polis, their_polis):\n",
    "        pass\n",
    "    \n",
    "    \n",
    "    \n",
    "sparta = Exchange(1, 5, 100, 500, 1000, 5, 2, 4)\n",
    "cirtha = Exchange(3, 5, 160, 700, 1400, 5, 2, 4)"
   ]
  },
  {
   "cell_type": "code",
   "execution_count": 30,
   "metadata": {},
   "outputs": [
    {
     "data": {
      "text/plain": [
       "100.0"
      ]
     },
     "execution_count": 30,
     "metadata": {},
     "output_type": "execute_result"
    }
   ],
   "source": [
    "\n",
    "\n",
    "weight = 1\n",
    "metal_in = 'gold'\n",
    "metal_out = 'iron'\n",
    "\n",
    "coin_out = 'electron'\n",
    "\n",
    "sparta.exchange_weights(weight, metal_in, metal_out)\n",
    "\n",
    "sparta.metal_to_coins(weight, metal_in, coin_out)"
   ]
  },
  {
   "cell_type": "code",
   "execution_count": 32,
   "metadata": {},
   "outputs": [
    {
     "data": {
      "text/plain": [
       "4.0"
      ]
     },
     "execution_count": 32,
     "metadata": {},
     "output_type": "execute_result"
    }
   ],
   "source": [
    "\n",
    "\n",
    "coin_metal = 'gold'\n",
    "coins_number = 5\n",
    "metal_out = 'silver'\n",
    "\n",
    "coin_out = 'electron'\n",
    "\n",
    "sparta.get_coins_value(coin_metal, coins_number, metal_out)\n",
    "\n",
    "sparta.exchange_coins(coin_metal, coins_number, coin_out)"
   ]
  },
  {
   "cell_type": "code",
   "execution_count": null,
   "metadata": {},
   "outputs": [],
   "source": []
  }
 ],
 "metadata": {
  "kernelspec": {
   "display_name": "Python 3",
   "language": "python",
   "name": "python3"
  },
  "language_info": {
   "codemirror_mode": {
    "name": "ipython",
    "version": 3
   },
   "file_extension": ".py",
   "mimetype": "text/x-python",
   "name": "python",
   "nbconvert_exporter": "python",
   "pygments_lexer": "ipython3",
   "version": "3.5.2"
  }
 },
 "nbformat": 4,
 "nbformat_minor": 2
}
